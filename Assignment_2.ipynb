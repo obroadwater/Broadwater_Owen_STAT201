{
 "cells": [
  {
   "cell_type": "raw",
   "metadata": {
    "vscode": {
     "languageId": "raw"
    }
   },
   "source": [
    "---\n",
    "title: \"Assignment 2\"\n",
    "subtitle: \"STAT 201\"\n",
    "author: \"Owen Broadwater\"\n",
    "format:\n",
    "  html:\n",
    "    toc: true\n",
    "    embed-resources: true\n",
    "---"
   ]
  },
  {
   "cell_type": "markdown",
   "metadata": {},
   "source": [
    "### Instructions"
   ]
  },
  {
   "cell_type": "markdown",
   "metadata": {},
   "source": [
    "1. **Write your name** on the assignment.\n",
    "\n",
    "2. Write your code in the *Code* cells of the **template provided** to write solutions for the assignment. **Do not open a new notebook**, and work from scratch. Ensure that the solution is written neatly enough to understand and grade.\n",
    "\n",
    "3. Use [Quarto](https://quarto.org/docs/output-formats/html-basics.html) to print the *.ipynb* file as HTML. You will need to open the command prompt, navigate to the directory containing the file, and use the command: `quarto render filename.ipynb --to html`. Submit the HTML file.\n",
    "\n",
    "4. You may talk to a friend, discuss the questions and potential directions for solving them. However, you need to write your own solutions and code separately, and not as a group activity. Do not use AI to solve the problems.\n",
    "\n",
    "5. There are 2 points for cleanliness and organization. The breakdown is as follows:\n",
    "    - Must be an HTML file rendered using Quarto. \n",
    "    - There aren’t excessively long outputs of extraneous information (e.g. no printouts of unnecessary results without good reason, there aren’t long printouts of which iteration a loop is on, there aren’t long sections of commented-out code, etc.). There is no piece of unnecessary / redundant code, and no unnecessary / redundant text\n",
    "    - The code follows the [python style guide](https://peps.python.org/pep-0008/) for naming variables, spaces, indentation, etc.\n",
    "    - The code should be commented and clearly written with intuitive variable names. For example, use variable names such as number_input, factor, hours, instead of a,b,xyz, etc."
   ]
  },
  {
   "cell_type": "markdown",
   "metadata": {},
   "source": [
    "### Question 1 (3 points)"
   ]
  },
  {
   "cell_type": "markdown",
   "metadata": {},
   "source": [
    "a) Write a program that counts down from 5 and then prints the message \"Go\"."
   ]
  },
  {
   "cell_type": "code",
   "execution_count": 1,
   "metadata": {},
   "outputs": [
    {
     "name": "stdout",
     "output_type": "stream",
     "text": [
      "5\n",
      "4\n",
      "3\n",
      "2\n",
      "1\n",
      "Go\n"
     ]
    }
   ],
   "source": [
    "# Question 1\n",
    "# Part a\n",
    "for i in range(5):\n",
    "    print(5-i)\n",
    "print(\"Go\")"
   ]
  },
  {
   "cell_type": "markdown",
   "metadata": {},
   "source": [
    "b) Write a program that asks the user for an integer, then counts down from that integer and then prints the message \"Go\". Use a try-except to ensure the user entered an integer. If it is not an integer, return the message \"You must enter an integer\". Show the output of the program if the user inputs `3`. "
   ]
  },
  {
   "cell_type": "code",
   "execution_count": 2,
   "metadata": {},
   "outputs": [
    {
     "name": "stdout",
     "output_type": "stream",
     "text": [
      "3\n",
      "2\n",
      "1\n",
      "Go\n"
     ]
    }
   ],
   "source": [
    "# Question 1\n",
    "# Part b\n",
    "num = 0\n",
    "try:\n",
    "    num = int(input(\"Enter an integer: \"))\n",
    "except:\n",
    "    print(\"You must enter an integer\")\n",
    "for i in range(num):\n",
    "    print(num-i)\n",
    "print(\"Go\")"
   ]
  },
  {
   "cell_type": "markdown",
   "metadata": {},
   "source": [
    "c) Copy and modify part b to allow the user to keep entering input until they correctly enter an integer (ie: don't end after the except). Show the output of the program if the user first inputs `8.9` and then inputs `7`. "
   ]
  },
  {
   "cell_type": "code",
   "execution_count": 3,
   "metadata": {},
   "outputs": [
    {
     "name": "stdout",
     "output_type": "stream",
     "text": [
      "You must enter an integer\n",
      "7\n",
      "6\n",
      "5\n",
      "4\n",
      "3\n",
      "2\n",
      "1\n",
      "Go\n"
     ]
    }
   ],
   "source": [
    "# Question 1\n",
    "# Part c\n",
    "num = \"\"\n",
    "while(type(num) != int):\n",
    "    try:\n",
    "        num = int(input(\"Enter an integer: \"))\n",
    "    except:\n",
    "        print(\"You must enter an integer\")\n",
    "for i in range(num):\n",
    "    print(num-i)\n",
    "print(\"Go\")"
   ]
  },
  {
   "cell_type": "markdown",
   "metadata": {},
   "source": [
    "### Question 2 (2 points)"
   ]
  },
  {
   "cell_type": "markdown",
   "metadata": {},
   "source": [
    "Print a star formation as follows:\n",
    "\n",
    "                                             * \n",
    "                                             * * \n",
    "                                             * * * \n",
    "                                             * * * * \n",
    "                                             \n",
    "Ask the user to input the height of the formation first. For example, 4 should return the formation above. Show the output of the program if the user inputs `5`. "
   ]
  },
  {
   "cell_type": "code",
   "execution_count": 5,
   "metadata": {},
   "outputs": [
    {
     "name": "stdout",
     "output_type": "stream",
     "text": [
      "* \n",
      "* * \n",
      "* * * \n",
      "* * * * \n",
      "* * * * * \n"
     ]
    }
   ],
   "source": [
    "# Question 2\n",
    "num = \"\"\n",
    "while(type(num)!= int):\n",
    "    try:\n",
    "        num = int(input(\"Enter the height of the formation: \"))\n",
    "    except:\n",
    "        print(\"Enter an integer value\")\n",
    "        \n",
    "for i in range(num):\n",
    "    print(\"* \"*(i+1))"
   ]
  },
  {
   "cell_type": "markdown",
   "metadata": {},
   "source": [
    "### Question 3 (6 points)"
   ]
  },
  {
   "cell_type": "markdown",
   "metadata": {},
   "source": [
    "a) Write a program where you play 3 \"Rock, Paper, Scissors\" games against the computer. Simulate a random choice for the computer each game and ask the user to enter either rock, paper, or scissors. Print the number of times the user won out of 3 games. Show the output of the program after playing the game. \n",
    "\n",
    "Recall: rock beats scissors; scissors beats paper; paper beats rock.\n",
    "\n",
    "Example:\n",
    "\n",
    "                                    \"You won <num_win> out of 3 games.\""
   ]
  },
  {
   "cell_type": "code",
   "execution_count": null,
   "metadata": {},
   "outputs": [
    {
     "name": "stdout",
     "output_type": "stream",
     "text": [
      "Computer wins -- computer chose paper and user chose rock\n",
      "User ties the computer -- computer chose paper and user chose paper\n",
      "Computer wins -- computer chose rock and user chose scissors\n",
      "You won 0 out of 3 games.\n"
     ]
    }
   ],
   "source": [
    "# Question 3\n",
    "# Part a\n",
    "# import the random function and name the alias rm\n",
    "import random as rm\n",
    "\n",
    "# Conditional logic to decide winner\n",
    "def choose_winner(comp_choice, user_choice):\n",
    "    user_win = False\n",
    "    if(user_choice == \"rock\"):\n",
    "        if(comp_choice == \"rock\"):\n",
    "            print(f\"User ties the computer -- computer chose {comp_choice} and user chose {user_choice}\")\n",
    "        elif(comp_choice == \"paper\"):\n",
    "            print(f\"Computer wins -- computer chose {comp_choice} and user chose {user_choice}\")\n",
    "        else:\n",
    "            print(f\"User wins -- computer chose {comp_choice} and user chose {user_choice}\")\n",
    "            user_win = True\n",
    "    elif(user_choice == \"paper\"):\n",
    "        if(comp_choice == \"rock\"):\n",
    "            print(f\"User wins -- computer chose {comp_choice} and user chose {user_choice}\")\n",
    "            user_win = True\n",
    "        elif(comp_choice == \"paper\"):\n",
    "            print(f\"User ties the computer -- computer chose {comp_choice} and user chose {user_choice}\")\n",
    "        else:\n",
    "            print(f\"Computer wins -- computer chose {comp_choice} and user chose {user_choice}\")\n",
    "    else:\n",
    "        if(comp_choice == \"rock\"):\n",
    "            print(f\"Computer wins -- computer chose {comp_choice} and user chose {user_choice}\")\n",
    "        elif(comp_choice == \"paper\"):\n",
    "            print(f\"User wins -- computer chose {comp_choice} and user chose {user_choice}\")\n",
    "            user_win = True\n",
    "        else:\n",
    "            print(f\"User ties the computer -- computer chose {comp_choice} and user chose {user_choice}\")\n",
    "    return user_win\n",
    "\n",
    "\n",
    "user_wins = 0\n",
    "for i in range(3):\n",
    "    comp_choice = rm.choice(['rock', 'paper', 'scissors'])\n",
    "    user_choice = input(\"choose rock, paper, or scissors: \").lower()\n",
    "    while(not(user_choice == \"rock\" or user_choice == \"scissors\" or user_choice == \"paper\")):\n",
    "        print(\"Invalid choice.\")\n",
    "        user_choice = input(\"choose rock, paper, or scissors: \").lower()\n",
    "    if choose_winner(comp_choice,user_choice):\n",
    "        user_wins += 1\n",
    "print(f\"You won {user_wins} out of 3 games.\")\n"
   ]
  },
  {
   "cell_type": "markdown",
   "metadata": {},
   "source": [
    "b) Write a program where you play \"Rock, Paper, Scissors\" games against the computer until you have won 3 games. Simulate a random choice for the computer each game and ask the user to enter either rock, paper, or scissors. Print the number of games it took to win 3 times. Show the output of the program after playing the game.\n",
    "\n",
    "Example:\n",
    "\n",
    "                                    \"You won 3 out of <num_games> games.\""
   ]
  },
  {
   "cell_type": "code",
   "execution_count": 8,
   "metadata": {},
   "outputs": [
    {
     "name": "stdout",
     "output_type": "stream",
     "text": [
      "User ties the computer -- computer chose rock and user chose rock\n",
      "User wins -- computer chose rock and user chose paper\n",
      "User ties the computer -- computer chose paper and user chose paper\n",
      "User ties the computer -- computer chose paper and user chose paper\n",
      "Computer wins -- computer chose scissors and user chose paper\n",
      "User ties the computer -- computer chose rock and user chose rock\n",
      "User ties the computer -- computer chose rock and user chose rock\n",
      "Computer wins -- computer chose paper and user chose rock\n",
      "User ties the computer -- computer chose paper and user chose paper\n",
      "User ties the computer -- computer chose scissors and user chose scissors\n",
      "User wins -- computer chose paper and user chose scissors\n",
      "Computer wins -- computer chose paper and user chose rock\n",
      "User wins -- computer chose rock and user chose paper\n",
      "You won 3 out of 13 games.\n"
     ]
    }
   ],
   "source": [
    "# Question 3\n",
    "# Part b\n",
    "# import the random function and name the alias rm\n",
    "import random as rm\n",
    "\n",
    "# Conditional logic to decide winner\n",
    "def choose_winner(comp_choice, user_choice):\n",
    "    user_win = False\n",
    "    if(user_choice == \"rock\"):\n",
    "        if(comp_choice == \"rock\"):\n",
    "            print(f\"User ties the computer -- computer chose {comp_choice} and user chose {user_choice}\")\n",
    "        elif(comp_choice == \"paper\"):\n",
    "            print(f\"Computer wins -- computer chose {comp_choice} and user chose {user_choice}\")\n",
    "        else:\n",
    "            print(f\"User wins -- computer chose {comp_choice} and user chose {user_choice}\")\n",
    "            user_win = True\n",
    "    elif(user_choice == \"paper\"):\n",
    "        if(comp_choice == \"rock\"):\n",
    "            print(f\"User wins -- computer chose {comp_choice} and user chose {user_choice}\")\n",
    "            user_win = True\n",
    "        elif(comp_choice == \"paper\"):\n",
    "            print(f\"User ties the computer -- computer chose {comp_choice} and user chose {user_choice}\")\n",
    "        else:\n",
    "            print(f\"Computer wins -- computer chose {comp_choice} and user chose {user_choice}\")\n",
    "    else:\n",
    "        if(comp_choice == \"rock\"):\n",
    "            print(f\"Computer wins -- computer chose {comp_choice} and user chose {user_choice}\")\n",
    "        elif(comp_choice == \"paper\"):\n",
    "            print(f\"User wins -- computer chose {comp_choice} and user chose {user_choice}\")\n",
    "            user_win = True\n",
    "        else:\n",
    "            print(f\"User ties the computer -- computer chose {comp_choice} and user chose {user_choice}\")\n",
    "    return user_win\n",
    "\n",
    "user_wins = 0\n",
    "num_games = 0\n",
    "while(user_wins < 3):\n",
    "    comp_choice = rm.choice(['rock', 'paper', 'scissors'])\n",
    "    user_choice = input(\"choose rock, paper, or scissors: \").lower()\n",
    "    while(not(user_choice == \"rock\" or user_choice == \"scissors\" or user_choice == \"paper\")):\n",
    "        print(\"Invalid choice.\")\n",
    "        user_choice = input(\"choose rock, paper, or scissors: \").lower()\n",
    "    if choose_winner(comp_choice,user_choice):\n",
    "        user_wins += 1\n",
    "    num_games += 1\n",
    "print(f\"You won 3 out of {num_games} games.\")"
   ]
  },
  {
   "cell_type": "markdown",
   "metadata": {},
   "source": [
    "### Question 4 (6 points)"
   ]
  },
  {
   "cell_type": "markdown",
   "metadata": {},
   "source": [
    "a) Write a program (loop) that prints all the factors of a positive integer input by the user. A factor is any positive integer that divides the number and leaves no remainder. Show the output of the program if the user inputs `24`. \n",
    "\n",
    "Example: The factors of 8 are 1, 2, 4, 8."
   ]
  },
  {
   "cell_type": "code",
   "execution_count": 15,
   "metadata": {},
   "outputs": [
    {
     "name": "stdout",
     "output_type": "stream",
     "text": [
      "24:\n",
      "1\n",
      "2\n",
      "3\n",
      "4\n",
      "6\n",
      "8\n",
      "12\n",
      "24\n"
     ]
    }
   ],
   "source": [
    "# Question 4\n",
    "# Part a\n",
    "num = \"\"\n",
    "while(type(num) != int):\n",
    "    try:\n",
    "        num = int(input(\"Enter an integer: \"))\n",
    "    except:\n",
    "        print(\"You must enter an integer\")\n",
    "print(f\"{num}:\")\n",
    "for i in range(1,num+1):\n",
    "    if num % i == 0:\n",
    "        print(i)"
   ]
  },
  {
   "cell_type": "markdown",
   "metadata": {},
   "source": [
    "b) Write a **function** called `number_of_factors` that takes an integer and returns how many factors the number has. Run your function with `24` to check if it works."
   ]
  },
  {
   "cell_type": "code",
   "execution_count": 17,
   "metadata": {},
   "outputs": [
    {
     "name": "stdout",
     "output_type": "stream",
     "text": [
      "24 has 8 factors\n"
     ]
    }
   ],
   "source": [
    "# Question 4\n",
    "# Part b\n",
    "def number_of_factors(num):\n",
    "    num_factors = 0\n",
    "    for i in range(1,num+1):\n",
    "        if num % i == 0:\n",
    "            num_factors += 1\n",
    "    return num_factors\n",
    "num = 24\n",
    "print(f\"{num} has {number_of_factors(num)} factors\")"
   ]
  },
  {
   "cell_type": "markdown",
   "metadata": {},
   "source": [
    "### Question 5 (6 points)"
   ]
  },
  {
   "cell_type": "markdown",
   "metadata": {},
   "source": [
    "a) Write a program (loop) that identifies whether a positive integer input by the user is prime or not. A prime number is a number whose only divisors are 1 and itself. Show the output when the program is used to check if `89` is prime or not."
   ]
  },
  {
   "cell_type": "code",
   "execution_count": 21,
   "metadata": {},
   "outputs": [
    {
     "name": "stdout",
     "output_type": "stream",
     "text": [
      "89 is a prime number\n"
     ]
    }
   ],
   "source": [
    "# Question 5\n",
    "# Part a\n",
    "num = \"\"\n",
    "while(type(num) != int):\n",
    "    try:\n",
    "        num = int(input(\"Enter an integer: \"))\n",
    "    except:\n",
    "        print(\"You must enter an integer\")\n",
    "num_factors = 0\n",
    "for i in range(1,num+1):\n",
    "    if num % i == 0:\n",
    "        num_factors += 1\n",
    "is_prime = num_factors == 2\n",
    "if is_prime:\n",
    "    print(f\"{num} is a prime number\")\n",
    "else:\n",
    "    print(f\"{num} is not a prime number\")\n",
    "\n"
   ]
  },
  {
   "cell_type": "markdown",
   "metadata": {},
   "source": [
    "b) Write a **function** that checks if a positive integer is prime or not. It should take one integer input and return a boolean. Run your function with `197` to check if it works."
   ]
  },
  {
   "cell_type": "code",
   "execution_count": 22,
   "metadata": {},
   "outputs": [
    {
     "name": "stdout",
     "output_type": "stream",
     "text": [
      "It is True that 197 is a prime number\n"
     ]
    }
   ],
   "source": [
    "# Question 5\n",
    "# Part b\n",
    "def is_prime(num):\n",
    "    num_factors = 0\n",
    "    for i in range(1,num+1):\n",
    "        if num % i == 0:\n",
    "            num_factors += 1\n",
    "    return num_factors == 2\n",
    "num = 197\n",
    "print(f\"It is {is_prime(num)} that {num} is a prime number\")"
   ]
  },
  {
   "cell_type": "markdown",
   "metadata": {},
   "source": [
    "### Question 6 (4 points)"
   ]
  },
  {
   "cell_type": "markdown",
   "metadata": {},
   "source": [
    "Write a function that calculates the area of a rectangle. The function should have an input for length (in inches) and width (in inches). And have 2 ouputs: the area in terms of square inches and the area in terms of square feet. There are 12 inches in 1 foot. Run your function with a length of 102 inches and width of 60 inches to check if it works."
   ]
  },
  {
   "cell_type": "code",
   "execution_count": 31,
   "metadata": {},
   "outputs": [
    {
     "name": "stdout",
     "output_type": "stream",
     "text": [
      "A rectangle with length 102 inches and width 60 inches has an area of 6120 square inches or 42.5 square feet\n"
     ]
    }
   ],
   "source": [
    "# Question 6\n",
    "def calc_area(length, width):\n",
    "    area_inches = length*width\n",
    "    area_feet = area_inches/144\n",
    "    return [area_inches,area_feet]\n",
    "length = 102\n",
    "width = 60\n",
    "area = calc_area(length,width)\n",
    "print(f\"A rectangle with length {length} inches and width {width} inches has an area of {area[0]} square inches or {area[1]} square feet\")"
   ]
  },
  {
   "cell_type": "markdown",
   "metadata": {},
   "source": [
    "### Question 7 (3 points)"
   ]
  },
  {
   "cell_type": "markdown",
   "metadata": {},
   "source": [
    "Write a function that takes a word and a sentence as two string inputs and returns the number of times the word occurs in the sentence as the output.\n",
    "\n",
    "Run your function with **\"sea\"** and **“Sea shells are on the sea shore when the sea is calm.”** inputs to check if it works. Your function should work for any word and sentence. \n",
    "\n",
    "Note: at this time it does not have to differentiate a distinct word just if it appears in any form. Example: **“The sea gives me nausea.”** would return 2."
   ]
  },
  {
   "cell_type": "code",
   "execution_count": 30,
   "metadata": {},
   "outputs": [
    {
     "name": "stdout",
     "output_type": "stream",
     "text": [
      "3\n"
     ]
    }
   ],
   "source": [
    "# Question 7\n",
    "def num_occurences(sentence, word):\n",
    "    return sentence.lower().count(word.lower())\n",
    "print(num_occurences(\"Sea shells are on the sea shore when the sea is calm.\", \"sea\"))"
   ]
  }
 ],
 "metadata": {
  "kernelspec": {
   "display_name": "Python 3",
   "language": "python",
   "name": "python3"
  },
  "language_info": {
   "codemirror_mode": {
    "name": "ipython",
    "version": 3
   },
   "file_extension": ".py",
   "mimetype": "text/x-python",
   "name": "python",
   "nbconvert_exporter": "python",
   "pygments_lexer": "ipython3",
   "version": "3.7.3"
  }
 },
 "nbformat": 4,
 "nbformat_minor": 4
}
