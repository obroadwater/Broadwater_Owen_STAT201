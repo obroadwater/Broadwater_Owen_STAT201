{
 "cells": [
  {
   "cell_type": "raw",
   "metadata": {
    "vscode": {
     "languageId": "raw"
    }
   },
   "source": [
    "---\n",
    "title: \"Assignment 1\"\n",
    "subtitle: \"STAT 201\"\n",
    "author: \"Owen Broadwater\"\n",
    "format:\n",
    "  html:\n",
    "    toc: true\n",
    "    embed-resources: true\n",
    "jupyter: python3\n",
    "---"
   ]
  },
  {
   "cell_type": "markdown",
   "metadata": {},
   "source": [
    "## Instructions {-}\n",
    "\n",
    "1. **Write your name** on the assignment.\n",
    "\n",
    "2. Write your code in the *Code* cells of the **template provided** to write solutions for the assignment. **Do not open a new notebook**, and work from scratch. Ensure that the solution is written neatly enough to understand and grade.\n",
    "\n",
    "3. Use [Quarto](https://quarto.org/docs/output-formats/html-basics.html) to print the *.ipynb* file as HTML. You will need to open the command prompt, navigate to the directory containing the file, and use the command: `quarto render filename.ipynb --to html`. Submit the HTML file.\n",
    "\n",
    "4. You may talk to a friend, discuss the questions and potential directions for solving them. However, you need to write your own solutions and code separately, and not as a group activity. Do not use AI to solve the problems.\n",
    "\n",
    "5. If your document is not clean and organized, you can lose up to 2 points:\n",
    "\n",
    "    - Must be an HTML file rendered using Quarto. \n",
    "    - There aren’t excessively long outputs of extraneous information (e.g. no printouts of unnecessary results without good reason, there aren’t long printouts of which iteration a loop is on, there aren’t long sections of commented-out code, etc.). There is no piece of unnecessary / redundant code, and no unnecessary / redundant text\n",
    "    - The code follows the [python style guide](https://peps.python.org/pep-0008/) for naming variables, spaces, indentation, etc.\n",
    "    - The code should be commented and clearly written with intuitive variable names. For example, use variable names such as number_input, factor, hours, instead of a,b,xyz, etc.\n",
    "\n",
    "6. If your document does not include the output of your code, you may lose up to 5 points."
   ]
  },
  {
   "cell_type": "markdown",
   "metadata": {},
   "source": [
    "## Question 1 (4 points)"
   ]
  },
  {
   "cell_type": "markdown",
   "metadata": {},
   "source": [
    "a) Create a a variable called `var_float` that contains a decimal number."
   ]
  },
  {
   "cell_type": "code",
   "execution_count": 1,
   "metadata": {},
   "outputs": [],
   "source": [
    "# Question 1, Part a\n",
    "var_float = 0.897"
   ]
  },
  {
   "cell_type": "markdown",
   "metadata": {},
   "source": [
    "b) Store a sentence as `var_sent` that reads exactly as follows: \"The square of `{}` is `{}`.\" Where the first `{}` is your `var_float` and the second `{}` is the square of that variable. Print your sentence."
   ]
  },
  {
   "cell_type": "code",
   "execution_count": 2,
   "metadata": {},
   "outputs": [
    {
     "name": "stdout",
     "output_type": "stream",
     "text": [
      "The square of 0.897 is 0.9471008394041259\n"
     ]
    }
   ],
   "source": [
    "# Question 1, Part b\n",
    "import math\n",
    "var_sent = \"The square of {} is {}\".format(var_float,math.sqrt(var_float))\n",
    "print(var_sent)"
   ]
  },
  {
   "cell_type": "markdown",
   "metadata": {},
   "source": [
    "c) Print the output of using the `count` **method** to determine how many spaces are in `var_sent`."
   ]
  },
  {
   "cell_type": "code",
   "execution_count": 3,
   "metadata": {},
   "outputs": [
    {
     "name": "stdout",
     "output_type": "stream",
     "text": [
      "5\n"
     ]
    }
   ],
   "source": [
    "# Question 1, Part c\n",
    "print(var_sent.count(\" \"))"
   ]
  },
  {
   "cell_type": "markdown",
   "metadata": {},
   "source": [
    "d) Round your `var_float` to 0 decimal places and convert to an integer. Store this as `var_int` and print the `type` to verify this was done correctly."
   ]
  },
  {
   "cell_type": "code",
   "execution_count": null,
   "metadata": {},
   "outputs": [
    {
     "name": "stdout",
     "output_type": "stream",
     "text": [
      "<class 'int'>\n"
     ]
    }
   ],
   "source": [
    "# Question 1, Part d\n",
    "var_int = int(round(var_float,0))\n",
    "print(type(var_int))"
   ]
  },
  {
   "cell_type": "markdown",
   "metadata": {},
   "source": [
    "## Question 2 (3 points)"
   ]
  },
  {
   "cell_type": "markdown",
   "metadata": {},
   "source": [
    "Have a user input 2 Booleans (hint: must be type bool). In a **single print line**, using only `and`, `or`, `not` functions, have the output return True if both variables are the same, and False is they are different. \n",
    "\n",
    "Clarification: 1) cannot use conditional if statements 2) this must be capable of printing the correct output for any possible booleans the user could enter, not just the one example that your html will show."
   ]
  },
  {
   "cell_type": "code",
   "execution_count": 35,
   "metadata": {},
   "outputs": [
    {
     "name": "stdout",
     "output_type": "stream",
     "text": [
      "First boolean is True\n",
      "Second boolean is False\n",
      "False\n"
     ]
    }
   ],
   "source": [
    "# Question 2\n",
    "# First input\n",
    "first_bool = input(\"Input a boolean: \").lower() == \"true\"\n",
    "# Second input\n",
    "second_bool = input(\"Input another boolean: \").lower() == \"true\"\n",
    "#Check if variables are the same\n",
    "print(f\"First boolean is {first_bool}\")\n",
    "print(f\"Second boolean is {second_bool}\")\n",
    "print((first_bool and second_bool) or (not(first_bool) and not(second_bool)))"
   ]
  },
  {
   "cell_type": "markdown",
   "metadata": {},
   "source": [
    "## Question 3 (6 points)"
   ]
  },
  {
   "cell_type": "markdown",
   "metadata": {},
   "source": [
    "At Northwestern, email addresses are classified as follows:\n",
    "\n",
    "- **Student email addresses** end with `@u.northwestern.edu`.\n",
    "- **Professor email addresses** end with `@northwestern.edu` (but not `@u.northwestern.edu`).\n",
    "\n",
    "Write a Python program that:\n",
    "1. Asks the user how many email addresses they will enter.\n",
    "2. Prompts the user to input each email address.\n",
    "3. After all email addresses are entered:\n",
    "   - Print all professor email addresses under the heading `\"Professor Emails:\"`.\n",
    "   - Print all student email addresses under the heading `\"Student Emails:\"`.\n",
    "   - If no professor or student emails were entered, print `\"None\"` under the respective heading.\n",
    "\n",
    "### Requirements:\n",
    "- Do not use lists or other advanced data structures, since we have not covered them yet.\n",
    "- Use only basic string operations and loops.\n",
    "- **The program must handle all cases**, regardless of uppercase or lowercase in the email addresses.\n",
    "- **Trim any leading or trailing whitespace** in the user input before classifying the email.\n",
    "\n",
    "**Example Run:**\n",
    "\n",
    "How many email addresses will you be entering? 3 <br>\n",
    "Enter an email address: lshi@northwestern.edu  <br>\n",
    "Enter an email address: jackyu@u.northwestern.edu  <br>\n",
    "Enter an email address:   Alexa@u.northwestern.edu  <br>\n",
    "\n",
    "**Output:**\n",
    "\n",
    "Professor Emails: <br>\n",
    "lshi@northwestern.edu <br>\n",
    "\n",
    "Student Emails: <br>\n",
    "jackyu@u.northwestern.edu <br>\n",
    "alexa@u.northwestern.edu <br>\n"
   ]
  },
  {
   "cell_type": "code",
   "execution_count": 37,
   "metadata": {},
   "outputs": [
    {
     "name": "stdout",
     "output_type": "stream",
     "text": [
      "Professor Emails:\n",
      "lshi@northwestern.edu\n",
      "\n",
      "Student Emails:\n",
      "jackyu@u.northwestern.edu.\n",
      "alexa@u.northwestern.edu\n"
     ]
    }
   ],
   "source": [
    "# Question 3\n",
    "# Ask for the number of email addresses\n",
    "num_emails = \"\"\n",
    "while(type(num_emails) != int):\n",
    "    try:\n",
    "        num_emails = int(input(\"How many email addresses will you enter?: \"))\n",
    "    except:\n",
    "        print(\"Enter an integer value\")\n",
    "# Strings to store the list of student and professor emails respectively\n",
    "student_emails = \"Student Emails:\\nNone\"\n",
    "professor_emails = \"Professor Emails:\\nNone\"\n",
    "# For loop to ask for all emails to be inputted\n",
    "# Puts each email in the correct string and removes the None placeholder\n",
    "for i in range(num_emails):\n",
    "    email = input(\"Enter an email address: \").lower().replace(\" \",\"\")\n",
    "    if not(email.count(\"northwestern.edu\") == 0):\n",
    "        if(email.count(\"@u.northwestern.edu\")):\n",
    "            student_emails += \"\\n\" + email\n",
    "            student_emails = student_emails.replace(\"\\nNone\",\"\")\n",
    "        else:\n",
    "            professor_emails += \"\\n\" + email\n",
    "            professor_emails = professor_emails.replace(\"\\nNone\",\"\")\n",
    "print(professor_emails)\n",
    "print(\"\\n\"+student_emails)"
   ]
  },
  {
   "cell_type": "markdown",
   "metadata": {},
   "source": [
    "## Question 4 (3 points)"
   ]
  },
  {
   "cell_type": "markdown",
   "metadata": {},
   "source": [
    "Write a tip calculator program that asks the user for the price of the meal and the percent tip they want to leave. Then print a sentence that displays both the tip amount and total bill. Example if meal price is 25 dollars and tip is 15 percent:\n",
    "                                   \n",
    "                                   Your tip amount is $3.75 and your total bill is $28.75."
   ]
  },
  {
   "cell_type": "code",
   "execution_count": 20,
   "metadata": {},
   "outputs": [
    {
     "name": "stdout",
     "output_type": "stream",
     "text": [
      "Your tip amount is $3.75 and your total bill is $28.75.\n"
     ]
    }
   ],
   "source": [
    "# Question 4\n",
    "# Ask for price of meal\n",
    "price = \"\"\n",
    "while(type(price) != float):\n",
    "    try:\n",
    "        price = float(input(\"What was the price of the meal?: \"))\n",
    "    except:\n",
    "        print(\"Enter a decimal value\")\n",
    "# Ask for desired tip percentage\n",
    "percent = \"\"\n",
    "while(type(percent) != int):\n",
    "    try:\n",
    "        percent = int(input(\"What percentage would you like to leave as tip?: \"))\n",
    "    except:\n",
    "        print(\"Enter an integer value\")\n",
    "#Print display statement\n",
    "print(f\"Your tip amount is ${price*percent/100} and your total bill is ${price*percent/100+price}.\")"
   ]
  },
  {
   "cell_type": "markdown",
   "metadata": {},
   "source": [
    "## Question 5 (3 points)"
   ]
  },
  {
   "cell_type": "markdown",
   "metadata": {},
   "source": [
    "Write a program that asks the user for a number of seconds and prints out how many minutes and seconds that is. Example:\n",
    "\n",
    "                                    200 seconds is 3 minutes and 20 seconds.\n",
    "                                               \n",
    "**Use only two lines of code for this question: one line for the input and one line for the print.** "
   ]
  },
  {
   "cell_type": "code",
   "execution_count": 32,
   "metadata": {},
   "outputs": [
    {
     "name": "stdout",
     "output_type": "stream",
     "text": [
      "Enter an integer value\n",
      "200 seconds is 3 minutes and 20 seconds.\n"
     ]
    }
   ],
   "source": [
    "# Question 5\n",
    "num_seconds = \"\"\n",
    "while(type(num_seconds)!= int):\n",
    "    try:\n",
    "        num_seconds = int(input(\"Enter an amount of seconds: \"))\n",
    "    except:\n",
    "        print(\"Enter an integer value\")\n",
    "print(f\"{num_seconds} seconds is {int(round((num_seconds/60),0))} minutes and {num_seconds%60} seconds.\")"
   ]
  },
  {
   "cell_type": "markdown",
   "metadata": {},
   "source": [
    "## Question 6 (4 points)"
   ]
  },
  {
   "cell_type": "markdown",
   "metadata": {},
   "source": [
    "Write a program that asks the user to enter two numbers. Have the program return one of the following messages depending on which criteria is met. \n",
    "\n",
    "\"`num1` is greater than `num2`\"; \"`num 1` is less than `num2`\"; \"`num1` is equal to `num2`\"; where `num1` and `num2` are the user inputed values.\n",
    "\n",
    "Show the output of the program with any two numbers of your choice."
   ]
  },
  {
   "cell_type": "code",
   "execution_count": 36,
   "metadata": {},
   "outputs": [
    {
     "name": "stdout",
     "output_type": "stream",
     "text": [
      "1\n",
      "3\n",
      "num1 is less than num2\n"
     ]
    }
   ],
   "source": [
    "# Question 6\n",
    "# Get user input to assign values to 2 numbers\n",
    "num1 = \"\"\n",
    "num2 = \"\"\n",
    "while(type(num1) != int or type(num2) != int):\n",
    "    try:\n",
    "        num1 = int(input(\"Enter a number: \"))\n",
    "        num2 = int(input(\"Enter a second number: \"))\n",
    "    except:\n",
    "        print(\"Enter two integer values\")\n",
    "# Conditional logic to determine which number is greater\n",
    "print(num1)\n",
    "print(num2)\n",
    "if num1 == num2:\n",
    "    print(\"num1 is equal to num2\")\n",
    "elif num1 > num2:\n",
    "    print(\"num1 is greater than num2\")\n",
    "else:\n",
    "    print(\"num1 is less than num2\")\n"
   ]
  },
  {
   "cell_type": "markdown",
   "metadata": {},
   "source": [
    "## Question 7 (4 points)"
   ]
  },
  {
   "cell_type": "markdown",
   "metadata": {},
   "source": [
    "a) Use a **single if-elif-else** statement to print the smallest of 3 user defined numbers. Show the output of the program with any three numbers of your choice."
   ]
  },
  {
   "cell_type": "code",
   "execution_count": 38,
   "metadata": {},
   "outputs": [
    {
     "name": "stdout",
     "output_type": "stream",
     "text": [
      "3\n",
      "90\n",
      "3\n",
      "3\n"
     ]
    }
   ],
   "source": [
    "# Question 7a\n",
    "# Get user input to assign values to 3 numbers\n",
    "num1 = \"\"\n",
    "num2 = \"\"\n",
    "num3 = \"\"\n",
    "while(type(num1) != int or type(num2) != int or type(num3) != int):\n",
    "    try:\n",
    "        num1 = int(input(\"Enter a number: \"))\n",
    "        num2 = int(input(\"Enter a second number: \"))\n",
    "        num3 = int(input(\"Enter a third number: \"))\n",
    "    except:\n",
    "        print(\"Enter three integer values\")\n",
    "print(num1)\n",
    "print(num2)\n",
    "print(num3)\n",
    "# Conditional logic to determine smallest number\n",
    "if num1 <= num2 and num1 <= num3:\n",
    "    print(num1)\n",
    "elif num2 <= num1 and num2 <= num3:\n",
    "    print(num2)\n",
    "else:\n",
    "    print(num3)"
   ]
  },
  {
   "cell_type": "markdown",
   "metadata": {},
   "source": [
    "b) Use a **nested** conditional statement to print the smallest of 3 user defined numbers. Show the output of the program with any three numbers of your choice."
   ]
  },
  {
   "cell_type": "code",
   "execution_count": 39,
   "metadata": {},
   "outputs": [
    {
     "name": "stdout",
     "output_type": "stream",
     "text": [
      "1\n",
      "-9\n",
      "10\n",
      "-9\n"
     ]
    }
   ],
   "source": [
    "# Question 7b\n",
    "# Get user input to assign values to 3 numbers\n",
    "num1 = \"\"\n",
    "num2 = \"\"\n",
    "num3 = \"\"\n",
    "while(type(num1) != int or type(num2) != int or type(num3) != int):\n",
    "    try:\n",
    "        num1 = int(input(\"Enter a number: \"))\n",
    "        num2 = int(input(\"Enter a second number: \"))\n",
    "        num3 = int(input(\"Enter a third number: \"))\n",
    "    except:\n",
    "        print(\"Enter three integer values\")\n",
    "print(num1)\n",
    "print(num2)\n",
    "print(num3)\n",
    "# Conditional logic to determine smallest number\n",
    "if num1 <= num2:\n",
    "    if num1 <= num3:\n",
    "        print(num1)\n",
    "    else:\n",
    "        print(num3)\n",
    "else:\n",
    "    if num2 <= num3:\n",
    "        print(num2)\n",
    "    else:\n",
    "        print(num3)"
   ]
  },
  {
   "cell_type": "markdown",
   "metadata": {},
   "source": [
    "## Question 8 (6 points)"
   ]
  },
  {
   "cell_type": "markdown",
   "metadata": {},
   "source": [
    "Write a program that asks the user to enter either rock, paper, or scissors. Use a conditional statement to determine if the user wins, loses, or ties the computer at the game \"Rock, Paper, Scissors\". Note: rock beats scissors; scissors beats paper; paper beats rock\n",
    "\n",
    "Print a meaningful sentence that includes the winner, the computer's choice, and the user's choice.\n",
    "\n",
    "- Handle case sensitivity (example: if the user enters Rock, it will still run). \n",
    "- If the user enters a word other than one of the choices, print \"Invalid choice.\". \n",
    "- Show the output of the program when the user enters Rock (capitalized)"
   ]
  },
  {
   "cell_type": "code",
   "execution_count": 31,
   "metadata": {},
   "outputs": [
    {
     "name": "stdout",
     "output_type": "stream",
     "text": [
      "User wins -- computer chose scissors and user chose rock\n"
     ]
    }
   ],
   "source": [
    "# starter code to generate a random choice of rock, paper, scissors\n",
    "import random as rm\n",
    "comp_choice = rm.choice(['rock', 'paper', 'scissors'])\n",
    "user_choice = input(\"choose rock, paper, or scissors: \").lower()\n",
    "while(not(user_choice == \"rock\" or user_choice == \"scissors\" or user_choice == \"paper\")):\n",
    "    print(\"Invalid choice.\")\n",
    "    user_choice = input(\"choose rock, paper, or scissors: \").lower()\n",
    "# Conditional logic to decide winner\n",
    "if(user_choice == \"rock\"):\n",
    "    if(comp_choice == \"rock\"):\n",
    "        print(f\"User ties the computer -- computer chose {comp_choice} and user chose {user_choice}\")\n",
    "    elif(comp_choice == \"paper\"):\n",
    "        print(f\"Computer wins -- computer chose {comp_choice} and user chose {user_choice}\")\n",
    "    else:\n",
    "        print(f\"User wins -- computer chose {comp_choice} and user chose {user_choice}\")\n",
    "elif(user_choice == \"paper\"):\n",
    "    if(comp_choice == \"rock\"):\n",
    "        print(f\"User wins -- computer chose {comp_choice} and user chose {user_choice}\")\n",
    "    elif(comp_choice == \"paper\"):\n",
    "        print(f\"User ties the computer -- computer chose {comp_choice} and user chose {user_choice}\")\n",
    "    else:\n",
    "        print(f\"Computer wins -- computer chose {comp_choice} and user chose {user_choice}\")\n",
    "else:\n",
    "    if(comp_choice == \"rock\"):\n",
    "        print(f\"Computer wins -- computer chose {comp_choice} and user chose {user_choice}\")\n",
    "    elif(comp_choice == \"paper\"):\n",
    "        print(f\"User wins -- computer chose {comp_choice} and user chose {user_choice}\")\n",
    "    else:\n",
    "        print(f\"User ties the computer -- computer chose {comp_choice} and user chose {user_choice}\")\n",
    "\n",
    "# your solution in this code chunk below\n"
   ]
  },
  {
   "cell_type": "markdown",
   "metadata": {},
   "source": [
    "## Bonus (6 points)\n",
    "\n",
    "FFor all questions in this assignment that involve accepting user input:\n",
    "\n",
    "- Use a **`try-except` block** to handle cases where the user may enter invalid input (e.g., non-numeric values).\n",
    "- Implement a **loop** that repeatedly prompts the user until a valid value is provided, so the program can proceed safely.\n",
    "- To receive credit, you must **revise each applicable question** by modifying your code to include both the input loop and error handling directly in that question’s solution.\n",
    "\n",
    "Each revised question is worth **1 point**."
   ]
  }
 ],
 "metadata": {
  "kernelspec": {
   "display_name": "Python 3",
   "language": "python",
   "name": "python3"
  },
  "language_info": {
   "codemirror_mode": {
    "name": "ipython",
    "version": 3
   },
   "file_extension": ".py",
   "mimetype": "text/x-python",
   "name": "python",
   "nbconvert_exporter": "python",
   "pygments_lexer": "ipython3",
   "version": "3.7.3"
  }
 },
 "nbformat": 4,
 "nbformat_minor": 4
}
